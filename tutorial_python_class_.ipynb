{
  "nbformat": 4,
  "nbformat_minor": 0,
  "metadata": {
    "colab": {
      "name": "tutorial-python-class .ipynb",
      "provenance": [],
      "authorship_tag": "ABX9TyOBFHyaw+DyvWR9CFZka8wI",
      "include_colab_link": true
    },
    "kernelspec": {
      "name": "python3",
      "display_name": "Python 3"
    }
  },
  "cells": [
    {
      "cell_type": "markdown",
      "metadata": {
        "id": "view-in-github",
        "colab_type": "text"
      },
      "source": [
        "<a href=\"https://colab.research.google.com/github/piyush-nikam/tutorial-python/blob/master/tutorial_python_class_.ipynb\" target=\"_parent\"><img src=\"https://colab.research.google.com/assets/colab-badge.svg\" alt=\"Open In Colab\"/></a>"
      ]
    },
    {
      "cell_type": "markdown",
      "metadata": {
        "id": "lLiJNH0Vl_he",
        "colab_type": "text"
      },
      "source": [
        "#Class and Instance Attributes"
      ]
    },
    {
      "cell_type": "markdown",
      "metadata": {
        "id": "RArVVj_-mBWK",
        "colab_type": "text"
      },
      "source": [
        "##Class Attributes"
      ]
    },
    {
      "cell_type": "code",
      "metadata": {
        "id": "FnXoAaqTit7H",
        "colab_type": "code",
        "colab": {}
      },
      "source": [
        "class Parent:\n",
        "  name = 'parent attribute'"
      ],
      "execution_count": 1,
      "outputs": []
    },
    {
      "cell_type": "code",
      "metadata": {
        "id": "vrmzX8nppon5",
        "colab_type": "code",
        "colab": {
          "base_uri": "https://localhost:8080/",
          "height": 85
        },
        "outputId": "70fe9611-2eaa-44dd-db14-0ad2ed3bfc45"
      },
      "source": [
        "#first obj\n",
        "x = Parent()\n",
        "print(x)\n",
        "print(x.name)\n",
        "\n",
        "#secind obj\n",
        "y = Parent()\n",
        "print(y)\n",
        "print(y.name)"
      ],
      "execution_count": 2,
      "outputs": [
        {
          "output_type": "stream",
          "text": [
            "<__main__.Parent object at 0x7f71d58902b0>\n",
            "parent attribute\n",
            "<__main__.Parent object at 0x7f71d5875da0>\n",
            "parent attribute\n"
          ],
          "name": "stdout"
        }
      ]
    },
    {
      "cell_type": "code",
      "metadata": {
        "id": "TTnbiWxnpu9O",
        "colab_type": "code",
        "colab": {
          "base_uri": "https://localhost:8080/",
          "height": 68
        },
        "outputId": "e726867e-d532-467a-f4df-5ff44fa3cb51"
      },
      "source": [
        "#changing class to instance attribute \n",
        "x.name = 'x attribute'\n",
        "print(Parent.name)\n",
        "print(x.name)\n",
        "print(y.name)"
      ],
      "execution_count": 3,
      "outputs": [
        {
          "output_type": "stream",
          "text": [
            "parent attribute\n",
            "x attribute\n",
            "parent attribute\n"
          ],
          "name": "stdout"
        }
      ]
    },
    {
      "cell_type": "code",
      "metadata": {
        "id": "4UyFhkzbp2sO",
        "colab_type": "code",
        "colab": {
          "base_uri": "https://localhost:8080/",
          "height": 105
        },
        "outputId": "0c737368-c99c-499b-baa1-b881e52c1fb5"
      },
      "source": [
        "#print class and object dictionaries\n",
        "\n",
        "#for class\n",
        "print(Parent.__dict__)\n",
        "print(x.__class__.__dict__)\n",
        "\n",
        "#for instance\n",
        "print(x.__dict__)\n",
        "print(y.__dict__)"
      ],
      "execution_count": 4,
      "outputs": [
        {
          "output_type": "stream",
          "text": [
            "{'__module__': '__main__', 'name': 'parent attribute', '__dict__': <attribute '__dict__' of 'Parent' objects>, '__weakref__': <attribute '__weakref__' of 'Parent' objects>, '__doc__': None}\n",
            "{'__module__': '__main__', 'name': 'parent attribute', '__dict__': <attribute '__dict__' of 'Parent' objects>, '__weakref__': <attribute '__weakref__' of 'Parent' objects>, '__doc__': None}\n",
            "{'name': 'x attribute'}\n",
            "{}\n"
          ],
          "name": "stdout"
        }
      ]
    },
    {
      "cell_type": "markdown",
      "metadata": {
        "id": "Ost_AohzMP0H",
        "colab_type": "text"
      },
      "source": [
        "## Static methods to access private class variables"
      ]
    },
    {
      "cell_type": "code",
      "metadata": {
        "id": "GjyMuXclMT_c",
        "colab_type": "code",
        "colab": {}
      },
      "source": [
        "class Car:\n",
        "  __count = 0 #private class variable\n",
        "\n",
        "  #constructor\n",
        "  def __init__(self):\n",
        "    self.__count += 1\n",
        "  \n",
        "  @staticmethod\n",
        "  def CarCount():\n",
        "    return Car.__count"
      ],
      "execution_count": 5,
      "outputs": []
    },
    {
      "cell_type": "code",
      "metadata": {
        "id": "0szNqIJ3N-ic",
        "colab_type": "code",
        "colab": {
          "base_uri": "https://localhost:8080/",
          "height": 51
        },
        "outputId": "ba196706-8483-49c0-ecf9-d8b7bc5c054b"
      },
      "source": [
        "c = Car()\n",
        "print(c.CarCount())\n",
        "print(Car.CarCount())\n",
        "\n",
        "# Should throw an error as can't access private variables\n",
        "#print(c.__count)"
      ],
      "execution_count": 7,
      "outputs": [
        {
          "output_type": "stream",
          "text": [
            "0\n",
            "0\n"
          ],
          "name": "stdout"
        }
      ]
    }
  ]
}